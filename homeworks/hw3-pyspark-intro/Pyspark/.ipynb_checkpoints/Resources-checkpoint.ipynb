{
 "cells": [
  {
   "cell_type": "markdown",
   "metadata": {},
   "source": [
    "## Resources:\n",
    "\n",
    "- [Set up Apache Spark on a Multi-Node Cluster] (https://medium.com/ymedialabs-innovation/apache-spark-on-a-multi-node-cluster-b75967c8cb2b)\n",
    "\n",
    "- Pyspark Tutorial: https://www.youtube.com/watch?v=5dARTeE6OpU\n",
    "\n",
    "- Learning Pyspark with Python coding: https://runawayhorse001.github.io/LearningApacheSpark/index.html\n",
    "\n",
    "- A Problem-Solution Approach with PySpark2 -> is a great book by Raju Kumar Mishra\n",
    "\n",
    "- Databricks: https://community.cloud.databricks.com/"
   ]
  },
  {
   "cell_type": "code",
   "execution_count": null,
   "metadata": {},
   "outputs": [],
   "source": []
  }
 ],
 "metadata": {
  "kernelspec": {
   "display_name": "Python 3",
   "language": "python",
   "name": "python3"
  },
  "language_info": {
   "codemirror_mode": {
    "name": "ipython",
    "version": 3
   },
   "file_extension": ".py",
   "mimetype": "text/x-python",
   "name": "python",
   "nbconvert_exporter": "python",
   "pygments_lexer": "ipython3",
   "version": "3.6.5"
  }
 },
 "nbformat": 4,
 "nbformat_minor": 2
}
