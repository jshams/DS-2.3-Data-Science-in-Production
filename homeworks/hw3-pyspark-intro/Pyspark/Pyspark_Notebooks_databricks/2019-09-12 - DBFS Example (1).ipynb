{
 "cells": [
  {
   "cell_type": "markdown",
   "metadata": {},
   "source": [
    "## Overview\n",
    "\n",
    "This notebook will show you how to create and query a table or DataFrame that you uploaded to DBFS. [DBFS](https://docs.databricks.com/user-guide/dbfs-databricks-file-system.html) is a Databricks File System that allows you to store data for querying inside of Databricks. This notebook assumes that you have a file already inside of DBFS that you would like to read from.\n",
    "\n",
    "This notebook is written in **Python** so the default cell type is Python. However, you can use different languages by using the `%LANGUAGE` syntax. Python, Scala, SQL, and R are all supported."
   ]
  },
  {
   "cell_type": "code",
   "execution_count": 2,
   "metadata": {},
   "outputs": [
    {
     "data": {
      "text/html": [
       "<style scoped>\n",
       "  .table-result-container {\n",
       "    max-height: 300px;\n",
       "    overflow: auto;\n",
       "  }\n",
       "  table, th, td {\n",
       "    border: 1px solid black;\n",
       "    border-collapse: collapse;\n",
       "  }\n",
       "  th, td {\n",
       "    padding: 5px;\n",
       "  }\n",
       "  th {\n",
       "    text-align: left;\n",
       "  }\n",
       "</style><div class='table-result-container'><table class='table-result'><thead style='background-color: white'><tr><th>_c0</th><th>TV</th><th>radio</th><th>newspaper</th><th>sales</th></tr></thead><tbody><tr><td>1</td><td>230.1</td><td>37.8</td><td>69.2</td><td>22.1</td></tr><tr><td>2</td><td>44.5</td><td>39.3</td><td>45.1</td><td>10.4</td></tr><tr><td>3</td><td>17.2</td><td>45.9</td><td>69.3</td><td>9.3</td></tr><tr><td>4</td><td>151.5</td><td>41.3</td><td>58.5</td><td>18.5</td></tr><tr><td>5</td><td>180.8</td><td>10.8</td><td>58.4</td><td>12.9</td></tr><tr><td>6</td><td>8.7</td><td>48.9</td><td>75</td><td>7.2</td></tr><tr><td>7</td><td>57.5</td><td>32.8</td><td>23.5</td><td>11.8</td></tr><tr><td>8</td><td>120.2</td><td>19.6</td><td>11.6</td><td>13.2</td></tr><tr><td>9</td><td>8.6</td><td>2.1</td><td>1</td><td>4.8</td></tr><tr><td>10</td><td>199.8</td><td>2.6</td><td>21.2</td><td>10.6</td></tr><tr><td>11</td><td>66.1</td><td>5.8</td><td>24.2</td><td>8.6</td></tr><tr><td>12</td><td>214.7</td><td>24</td><td>4</td><td>17.4</td></tr><tr><td>13</td><td>23.8</td><td>35.1</td><td>65.9</td><td>9.2</td></tr><tr><td>14</td><td>97.5</td><td>7.6</td><td>7.2</td><td>9.7</td></tr><tr><td>15</td><td>204.1</td><td>32.9</td><td>46</td><td>19</td></tr><tr><td>16</td><td>195.4</td><td>47.7</td><td>52.9</td><td>22.4</td></tr><tr><td>17</td><td>67.8</td><td>36.6</td><td>114</td><td>12.5</td></tr><tr><td>18</td><td>281.4</td><td>39.6</td><td>55.8</td><td>24.4</td></tr><tr><td>19</td><td>69.2</td><td>20.5</td><td>18.3</td><td>11.3</td></tr><tr><td>20</td><td>147.3</td><td>23.9</td><td>19.1</td><td>14.6</td></tr><tr><td>21</td><td>218.4</td><td>27.7</td><td>53.4</td><td>18</td></tr><tr><td>22</td><td>237.4</td><td>5.1</td><td>23.5</td><td>12.5</td></tr><tr><td>23</td><td>13.2</td><td>15.9</td><td>49.6</td><td>5.6</td></tr><tr><td>24</td><td>228.3</td><td>16.9</td><td>26.2</td><td>15.5</td></tr><tr><td>25</td><td>62.3</td><td>12.6</td><td>18.3</td><td>9.7</td></tr><tr><td>26</td><td>262.9</td><td>3.5</td><td>19.5</td><td>12</td></tr><tr><td>27</td><td>142.9</td><td>29.3</td><td>12.6</td><td>15</td></tr><tr><td>28</td><td>240.1</td><td>16.7</td><td>22.9</td><td>15.9</td></tr><tr><td>29</td><td>248.8</td><td>27.1</td><td>22.9</td><td>18.9</td></tr><tr><td>30</td><td>70.6</td><td>16</td><td>40.8</td><td>10.5</td></tr><tr><td>31</td><td>292.9</td><td>28.3</td><td>43.2</td><td>21.4</td></tr><tr><td>32</td><td>112.9</td><td>17.4</td><td>38.6</td><td>11.9</td></tr><tr><td>33</td><td>97.2</td><td>1.5</td><td>30</td><td>9.6</td></tr><tr><td>34</td><td>265.6</td><td>20</td><td>0.3</td><td>17.4</td></tr><tr><td>35</td><td>95.7</td><td>1.4</td><td>7.4</td><td>9.5</td></tr><tr><td>36</td><td>290.7</td><td>4.1</td><td>8.5</td><td>12.8</td></tr><tr><td>37</td><td>266.9</td><td>43.8</td><td>5</td><td>25.4</td></tr><tr><td>38</td><td>74.7</td><td>49.4</td><td>45.7</td><td>14.7</td></tr><tr><td>39</td><td>43.1</td><td>26.7</td><td>35.1</td><td>10.1</td></tr><tr><td>40</td><td>228</td><td>37.7</td><td>32</td><td>21.5</td></tr><tr><td>41</td><td>202.5</td><td>22.3</td><td>31.6</td><td>16.6</td></tr><tr><td>42</td><td>177</td><td>33.4</td><td>38.7</td><td>17.1</td></tr><tr><td>43</td><td>293.6</td><td>27.7</td><td>1.8</td><td>20.7</td></tr><tr><td>44</td><td>206.9</td><td>8.4</td><td>26.4</td><td>12.9</td></tr><tr><td>45</td><td>25.1</td><td>25.7</td><td>43.3</td><td>8.5</td></tr><tr><td>46</td><td>175.1</td><td>22.5</td><td>31.5</td><td>14.9</td></tr><tr><td>47</td><td>89.7</td><td>9.9</td><td>35.7</td><td>10.6</td></tr><tr><td>48</td><td>239.9</td><td>41.5</td><td>18.5</td><td>23.2</td></tr><tr><td>49</td><td>227.2</td><td>15.8</td><td>49.9</td><td>14.8</td></tr><tr><td>50</td><td>66.9</td><td>11.7</td><td>36.8</td><td>9.7</td></tr><tr><td>51</td><td>199.8</td><td>3.1</td><td>34.6</td><td>11.4</td></tr><tr><td>52</td><td>100.4</td><td>9.6</td><td>3.6</td><td>10.7</td></tr><tr><td>53</td><td>216.4</td><td>41.7</td><td>39.6</td><td>22.6</td></tr><tr><td>54</td><td>182.6</td><td>46.2</td><td>58.7</td><td>21.2</td></tr><tr><td>55</td><td>262.7</td><td>28.8</td><td>15.9</td><td>20.2</td></tr><tr><td>56</td><td>198.9</td><td>49.4</td><td>60</td><td>23.7</td></tr><tr><td>57</td><td>7.3</td><td>28.1</td><td>41.4</td><td>5.5</td></tr><tr><td>58</td><td>136.2</td><td>19.2</td><td>16.6</td><td>13.2</td></tr><tr><td>59</td><td>210.8</td><td>49.6</td><td>37.7</td><td>23.8</td></tr><tr><td>60</td><td>210.7</td><td>29.5</td><td>9.3</td><td>18.4</td></tr><tr><td>61</td><td>53.5</td><td>2</td><td>21.4</td><td>8.1</td></tr><tr><td>62</td><td>261.3</td><td>42.7</td><td>54.7</td><td>24.2</td></tr><tr><td>63</td><td>239.3</td><td>15.5</td><td>27.3</td><td>15.7</td></tr><tr><td>64</td><td>102.7</td><td>29.6</td><td>8.4</td><td>14</td></tr><tr><td>65</td><td>131.1</td><td>42.8</td><td>28.9</td><td>18</td></tr><tr><td>66</td><td>69</td><td>9.3</td><td>0.9</td><td>9.3</td></tr><tr><td>67</td><td>31.5</td><td>24.6</td><td>2.2</td><td>9.5</td></tr><tr><td>68</td><td>139.3</td><td>14.5</td><td>10.2</td><td>13.4</td></tr><tr><td>69</td><td>237.4</td><td>27.5</td><td>11</td><td>18.9</td></tr><tr><td>70</td><td>216.8</td><td>43.9</td><td>27.2</td><td>22.3</td></tr><tr><td>71</td><td>199.1</td><td>30.6</td><td>38.7</td><td>18.3</td></tr><tr><td>72</td><td>109.8</td><td>14.3</td><td>31.7</td><td>12.4</td></tr><tr><td>73</td><td>26.8</td><td>33</td><td>19.3</td><td>8.8</td></tr><tr><td>74</td><td>129.4</td><td>5.7</td><td>31.3</td><td>11</td></tr><tr><td>75</td><td>213.4</td><td>24.6</td><td>13.1</td><td>17</td></tr><tr><td>76</td><td>16.9</td><td>43.7</td><td>89.4</td><td>8.7</td></tr><tr><td>77</td><td>27.5</td><td>1.6</td><td>20.7</td><td>6.9</td></tr><tr><td>78</td><td>120.5</td><td>28.5</td><td>14.2</td><td>14.2</td></tr><tr><td>79</td><td>5.4</td><td>29.9</td><td>9.4</td><td>5.3</td></tr><tr><td>80</td><td>116</td><td>7.7</td><td>23.1</td><td>11</td></tr><tr><td>81</td><td>76.4</td><td>26.7</td><td>22.3</td><td>11.8</td></tr><tr><td>82</td><td>239.8</td><td>4.1</td><td>36.9</td><td>12.3</td></tr><tr><td>83</td><td>75.3</td><td>20.3</td><td>32.5</td><td>11.3</td></tr><tr><td>84</td><td>68.4</td><td>44.5</td><td>35.6</td><td>13.6</td></tr><tr><td>85</td><td>213.5</td><td>43</td><td>33.8</td><td>21.7</td></tr><tr><td>86</td><td>193.2</td><td>18.4</td><td>65.7</td><td>15.2</td></tr><tr><td>87</td><td>76.3</td><td>27.5</td><td>16</td><td>12</td></tr><tr><td>88</td><td>110.7</td><td>40.6</td><td>63.2</td><td>16</td></tr><tr><td>89</td><td>88.3</td><td>25.5</td><td>73.4</td><td>12.9</td></tr><tr><td>90</td><td>109.8</td><td>47.8</td><td>51.4</td><td>16.7</td></tr><tr><td>91</td><td>134.3</td><td>4.9</td><td>9.3</td><td>11.2</td></tr><tr><td>92</td><td>28.6</td><td>1.5</td><td>33</td><td>7.3</td></tr><tr><td>93</td><td>217.7</td><td>33.5</td><td>59</td><td>19.4</td></tr><tr><td>94</td><td>250.9</td><td>36.5</td><td>72.3</td><td>22.2</td></tr><tr><td>95</td><td>107.4</td><td>14</td><td>10.9</td><td>11.5</td></tr><tr><td>96</td><td>163.3</td><td>31.6</td><td>52.9</td><td>16.9</td></tr><tr><td>97</td><td>197.6</td><td>3.5</td><td>5.9</td><td>11.7</td></tr><tr><td>98</td><td>184.9</td><td>21</td><td>22</td><td>15.5</td></tr><tr><td>99</td><td>289.7</td><td>42.3</td><td>51.2</td><td>25.4</td></tr><tr><td>100</td><td>135.2</td><td>41.7</td><td>45.9</td><td>17.2</td></tr><tr><td>101</td><td>222.4</td><td>4.3</td><td>49.8</td><td>11.7</td></tr><tr><td>102</td><td>296.4</td><td>36.3</td><td>100.9</td><td>23.8</td></tr><tr><td>103</td><td>280.2</td><td>10.1</td><td>21.4</td><td>14.8</td></tr><tr><td>104</td><td>187.9</td><td>17.2</td><td>17.9</td><td>14.7</td></tr><tr><td>105</td><td>238.2</td><td>34.3</td><td>5.3</td><td>20.7</td></tr><tr><td>106</td><td>137.9</td><td>46.4</td><td>59</td><td>19.2</td></tr><tr><td>107</td><td>25</td><td>11</td><td>29.7</td><td>7.2</td></tr><tr><td>108</td><td>90.4</td><td>0.3</td><td>23.2</td><td>8.7</td></tr><tr><td>109</td><td>13.1</td><td>0.4</td><td>25.6</td><td>5.3</td></tr><tr><td>110</td><td>255.4</td><td>26.9</td><td>5.5</td><td>19.8</td></tr><tr><td>111</td><td>225.8</td><td>8.2</td><td>56.5</td><td>13.4</td></tr><tr><td>112</td><td>241.7</td><td>38</td><td>23.2</td><td>21.8</td></tr><tr><td>113</td><td>175.7</td><td>15.4</td><td>2.4</td><td>14.1</td></tr><tr><td>114</td><td>209.6</td><td>20.6</td><td>10.7</td><td>15.9</td></tr><tr><td>115</td><td>78.2</td><td>46.8</td><td>34.5</td><td>14.6</td></tr><tr><td>116</td><td>75.1</td><td>35</td><td>52.7</td><td>12.6</td></tr><tr><td>117</td><td>139.2</td><td>14.3</td><td>25.6</td><td>12.2</td></tr><tr><td>118</td><td>76.4</td><td>0.8</td><td>14.8</td><td>9.4</td></tr><tr><td>119</td><td>125.7</td><td>36.9</td><td>79.2</td><td>15.9</td></tr><tr><td>120</td><td>19.4</td><td>16</td><td>22.3</td><td>6.6</td></tr><tr><td>121</td><td>141.3</td><td>26.8</td><td>46.2</td><td>15.5</td></tr><tr><td>122</td><td>18.8</td><td>21.7</td><td>50.4</td><td>7</td></tr><tr><td>123</td><td>224</td><td>2.4</td><td>15.6</td><td>11.6</td></tr><tr><td>124</td><td>123.1</td><td>34.6</td><td>12.4</td><td>15.2</td></tr><tr><td>125</td><td>229.5</td><td>32.3</td><td>74.2</td><td>19.7</td></tr><tr><td>126</td><td>87.2</td><td>11.8</td><td>25.9</td><td>10.6</td></tr><tr><td>127</td><td>7.8</td><td>38.9</td><td>50.6</td><td>6.6</td></tr><tr><td>128</td><td>80.2</td><td>0</td><td>9.2</td><td>8.8</td></tr><tr><td>129</td><td>220.3</td><td>49</td><td>3.2</td><td>24.7</td></tr><tr><td>130</td><td>59.6</td><td>12</td><td>43.1</td><td>9.7</td></tr><tr><td>131</td><td>0.7</td><td>39.6</td><td>8.7</td><td>1.6</td></tr><tr><td>132</td><td>265.2</td><td>2.9</td><td>43</td><td>12.7</td></tr><tr><td>133</td><td>8.4</td><td>27.2</td><td>2.1</td><td>5.7</td></tr><tr><td>134</td><td>219.8</td><td>33.5</td><td>45.1</td><td>19.6</td></tr><tr><td>135</td><td>36.9</td><td>38.6</td><td>65.6</td><td>10.8</td></tr><tr><td>136</td><td>48.3</td><td>47</td><td>8.5</td><td>11.6</td></tr><tr><td>137</td><td>25.6</td><td>39</td><td>9.3</td><td>9.5</td></tr><tr><td>138</td><td>273.7</td><td>28.9</td><td>59.7</td><td>20.8</td></tr><tr><td>139</td><td>43</td><td>25.9</td><td>20.5</td><td>9.6</td></tr><tr><td>140</td><td>184.9</td><td>43.9</td><td>1.7</td><td>20.7</td></tr><tr><td>141</td><td>73.4</td><td>17</td><td>12.9</td><td>10.9</td></tr><tr><td>142</td><td>193.7</td><td>35.4</td><td>75.6</td><td>19.2</td></tr><tr><td>143</td><td>220.5</td><td>33.2</td><td>37.9</td><td>20.1</td></tr><tr><td>144</td><td>104.6</td><td>5.7</td><td>34.4</td><td>10.4</td></tr><tr><td>145</td><td>96.2</td><td>14.8</td><td>38.9</td><td>11.4</td></tr><tr><td>146</td><td>140.3</td><td>1.9</td><td>9</td><td>10.3</td></tr><tr><td>147</td><td>240.1</td><td>7.3</td><td>8.7</td><td>13.2</td></tr><tr><td>148</td><td>243.2</td><td>49</td><td>44.3</td><td>25.4</td></tr><tr><td>149</td><td>38</td><td>40.3</td><td>11.9</td><td>10.9</td></tr><tr><td>150</td><td>44.7</td><td>25.8</td><td>20.6</td><td>10.1</td></tr><tr><td>151</td><td>280.7</td><td>13.9</td><td>37</td><td>16.1</td></tr><tr><td>152</td><td>121</td><td>8.4</td><td>48.7</td><td>11.6</td></tr><tr><td>153</td><td>197.6</td><td>23.3</td><td>14.2</td><td>16.6</td></tr><tr><td>154</td><td>171.3</td><td>39.7</td><td>37.7</td><td>19</td></tr><tr><td>155</td><td>187.8</td><td>21.1</td><td>9.5</td><td>15.6</td></tr><tr><td>156</td><td>4.1</td><td>11.6</td><td>5.7</td><td>3.2</td></tr><tr><td>157</td><td>93.9</td><td>43.5</td><td>50.5</td><td>15.3</td></tr><tr><td>158</td><td>149.8</td><td>1.3</td><td>24.3</td><td>10.1</td></tr><tr><td>159</td><td>11.7</td><td>36.9</td><td>45.2</td><td>7.3</td></tr><tr><td>160</td><td>131.7</td><td>18.4</td><td>34.6</td><td>12.9</td></tr><tr><td>161</td><td>172.5</td><td>18.1</td><td>30.7</td><td>14.4</td></tr><tr><td>162</td><td>85.7</td><td>35.8</td><td>49.3</td><td>13.3</td></tr><tr><td>163</td><td>188.4</td><td>18.1</td><td>25.6</td><td>14.9</td></tr><tr><td>164</td><td>163.5</td><td>36.8</td><td>7.4</td><td>18</td></tr><tr><td>165</td><td>117.2</td><td>14.7</td><td>5.4</td><td>11.9</td></tr><tr><td>166</td><td>234.5</td><td>3.4</td><td>84.8</td><td>11.9</td></tr><tr><td>167</td><td>17.9</td><td>37.6</td><td>21.6</td><td>8</td></tr><tr><td>168</td><td>206.8</td><td>5.2</td><td>19.4</td><td>12.2</td></tr><tr><td>169</td><td>215.4</td><td>23.6</td><td>57.6</td><td>17.1</td></tr><tr><td>170</td><td>284.3</td><td>10.6</td><td>6.4</td><td>15</td></tr><tr><td>171</td><td>50</td><td>11.6</td><td>18.4</td><td>8.4</td></tr><tr><td>172</td><td>164.5</td><td>20.9</td><td>47.4</td><td>14.5</td></tr><tr><td>173</td><td>19.6</td><td>20.1</td><td>17</td><td>7.6</td></tr><tr><td>174</td><td>168.4</td><td>7.1</td><td>12.8</td><td>11.7</td></tr><tr><td>175</td><td>222.4</td><td>3.4</td><td>13.1</td><td>11.5</td></tr><tr><td>176</td><td>276.9</td><td>48.9</td><td>41.8</td><td>27</td></tr><tr><td>177</td><td>248.4</td><td>30.2</td><td>20.3</td><td>20.2</td></tr><tr><td>178</td><td>170.2</td><td>7.8</td><td>35.2</td><td>11.7</td></tr><tr><td>179</td><td>276.7</td><td>2.3</td><td>23.7</td><td>11.8</td></tr><tr><td>180</td><td>165.6</td><td>10</td><td>17.6</td><td>12.6</td></tr><tr><td>181</td><td>156.6</td><td>2.6</td><td>8.3</td><td>10.5</td></tr><tr><td>182</td><td>218.5</td><td>5.4</td><td>27.4</td><td>12.2</td></tr><tr><td>183</td><td>56.2</td><td>5.7</td><td>29.7</td><td>8.7</td></tr><tr><td>184</td><td>287.6</td><td>43</td><td>71.8</td><td>26.2</td></tr><tr><td>185</td><td>253.8</td><td>21.3</td><td>30</td><td>17.6</td></tr><tr><td>186</td><td>205</td><td>45.1</td><td>19.6</td><td>22.6</td></tr><tr><td>187</td><td>139.5</td><td>2.1</td><td>26.6</td><td>10.3</td></tr><tr><td>188</td><td>191.1</td><td>28.7</td><td>18.2</td><td>17.3</td></tr><tr><td>189</td><td>286</td><td>13.9</td><td>3.7</td><td>15.9</td></tr><tr><td>190</td><td>18.7</td><td>12.1</td><td>23.4</td><td>6.7</td></tr><tr><td>191</td><td>39.5</td><td>41.1</td><td>5.8</td><td>10.8</td></tr><tr><td>192</td><td>75.5</td><td>10.8</td><td>6</td><td>9.9</td></tr><tr><td>193</td><td>17.2</td><td>4.1</td><td>31.6</td><td>5.9</td></tr><tr><td>194</td><td>166.8</td><td>42</td><td>3.6</td><td>19.6</td></tr><tr><td>195</td><td>149.7</td><td>35.6</td><td>6</td><td>17.3</td></tr><tr><td>196</td><td>38.2</td><td>3.7</td><td>13.8</td><td>7.6</td></tr><tr><td>197</td><td>94.2</td><td>4.9</td><td>8.1</td><td>9.7</td></tr><tr><td>198</td><td>177</td><td>9.3</td><td>6.4</td><td>12.8</td></tr><tr><td>199</td><td>283.6</td><td>42</td><td>66.2</td><td>25.5</td></tr><tr><td>200</td><td>232.1</td><td>8.6</td><td>8.7</td><td>13.4</td></tr></tbody></table></div>"
      ]
     },
     "metadata": {},
     "output_type": "display_data"
    }
   ],
   "source": [
    "# File location and type\n",
    "file_location = \"/FileStore/tables/Advertising.csv\"\n",
    "file_type = \"csv\"\n",
    "\n",
    "# CSV options\n",
    "infer_schema = \"false\"\n",
    "first_row_is_header = \"true\"\n",
    "delimiter = \",\"\n",
    "\n",
    "# The applied options are for CSV files. For other file types, these will be ignored.\n",
    "df = spark.read.format(file_type) \\\n",
    "  .option(\"inferSchema\", infer_schema) \\\n",
    "  .option(\"header\", first_row_is_header) \\\n",
    "  .option(\"sep\", delimiter) \\\n",
    "  .load(file_location)\n",
    "\n",
    "display(df)"
   ]
  },
  {
   "cell_type": "code",
   "execution_count": 3,
   "metadata": {},
   "outputs": [],
   "source": [
    "# Create a view or table\n",
    "\n",
    "temp_table_name = \"Advertising_csv\"\n",
    "\n",
    "df.createOrReplaceTempView(temp_table_name)"
   ]
  },
  {
   "cell_type": "code",
   "execution_count": 4,
   "metadata": {},
   "outputs": [],
   "source": [
    "%sql\n",
    "\n",
    "/* Query the created temp table in a SQL cell */\n",
    "\n",
    "select * from `Advertising_csv`"
   ]
  },
  {
   "cell_type": "code",
   "execution_count": 5,
   "metadata": {},
   "outputs": [
    {
     "data": {
      "text/html": [
       "<style scoped>\n",
       "  .ansiout {\n",
       "    display: block;\n",
       "    unicode-bidi: embed;\n",
       "    white-space: pre-wrap;\n",
       "    word-wrap: break-word;\n",
       "    word-break: break-all;\n",
       "    font-family: \"Source Code Pro\", \"Menlo\", monospace;;\n",
       "    font-size: 13px;\n",
       "    color: #555;\n",
       "    margin-left: 4px;\n",
       "    line-height: 19px;\n",
       "  }\n",
       "</style>\n",
       "<div class=\"ansiout\"></div>"
      ]
     },
     "metadata": {},
     "output_type": "display_data"
    }
   ],
   "source": [
    "# With this registered as a temp view, it will only be available to this particular notebook. If you'd like other users to be able to query this table, you can also create a table from the DataFrame.\n",
    "# Once saved, this table will persist across cluster restarts as well as allow various users across different notebooks to query this data.\n",
    "# To do so, choose your table name and uncomment the bottom line.\n",
    "\n",
    "permanent_table_name = \"Advertising_csv\"\n",
    "\n",
    "# df.write.format(\"parquet\").saveAsTable(permanent_table_name)"
   ]
  },
  {
   "cell_type": "code",
   "execution_count": 6,
   "metadata": {},
   "outputs": [
    {
     "data": {
      "text/html": [
       "<style scoped>\n",
       "  .ansiout {\n",
       "    display: block;\n",
       "    unicode-bidi: embed;\n",
       "    white-space: pre-wrap;\n",
       "    word-wrap: break-word;\n",
       "    word-break: break-all;\n",
       "    font-family: \"Source Code Pro\", \"Menlo\", monospace;;\n",
       "    font-size: 13px;\n",
       "    color: #555;\n",
       "    margin-left: 4px;\n",
       "    line-height: 19px;\n",
       "  }\n",
       "</style>\n",
       "<div class=\"ansiout\"></div>"
      ]
     },
     "metadata": {},
     "output_type": "display_data"
    }
   ],
   "source": [
    "regressionDataFrame = df.drop('_c0')"
   ]
  },
  {
   "cell_type": "code",
   "execution_count": 7,
   "metadata": {},
   "outputs": [
    {
     "data": {
      "text/html": [
       "<style scoped>\n",
       "  .ansiout {\n",
       "    display: block;\n",
       "    unicode-bidi: embed;\n",
       "    white-space: pre-wrap;\n",
       "    word-wrap: break-word;\n",
       "    word-break: break-all;\n",
       "    font-family: \"Source Code Pro\", \"Menlo\", monospace;;\n",
       "    font-size: 13px;\n",
       "    color: #555;\n",
       "    margin-left: 4px;\n",
       "    line-height: 19px;\n",
       "  }\n",
       "</style>\n",
       "<div class=\"ansiout\">Out[11]: [Row(TV=&#39;230.1&#39;, radio=&#39;37.8&#39;, newspaper=&#39;69.2&#39;, sales=&#39;22.1&#39;),\n",
       " Row(TV=&#39;44.5&#39;, radio=&#39;39.3&#39;, newspaper=&#39;45.1&#39;, sales=&#39;10.4&#39;),\n",
       " Row(TV=&#39;17.2&#39;, radio=&#39;45.9&#39;, newspaper=&#39;69.3&#39;, sales=&#39;9.3&#39;),\n",
       " Row(TV=&#39;151.5&#39;, radio=&#39;41.3&#39;, newspaper=&#39;58.5&#39;, sales=&#39;18.5&#39;),\n",
       " Row(TV=&#39;180.8&#39;, radio=&#39;10.8&#39;, newspaper=&#39;58.4&#39;, sales=&#39;12.9&#39;),\n",
       " Row(TV=&#39;8.7&#39;, radio=&#39;48.9&#39;, newspaper=&#39;75&#39;, sales=&#39;7.2&#39;),\n",
       " Row(TV=&#39;57.5&#39;, radio=&#39;32.8&#39;, newspaper=&#39;23.5&#39;, sales=&#39;11.8&#39;),\n",
       " Row(TV=&#39;120.2&#39;, radio=&#39;19.6&#39;, newspaper=&#39;11.6&#39;, sales=&#39;13.2&#39;),\n",
       " Row(TV=&#39;8.6&#39;, radio=&#39;2.1&#39;, newspaper=&#39;1&#39;, sales=&#39;4.8&#39;),\n",
       " Row(TV=&#39;199.8&#39;, radio=&#39;2.6&#39;, newspaper=&#39;21.2&#39;, sales=&#39;10.6&#39;)]</div>"
      ]
     },
     "metadata": {},
     "output_type": "display_data"
    }
   ],
   "source": [
    "regressionDataFrame.take(10)"
   ]
  },
  {
   "cell_type": "code",
   "execution_count": 8,
   "metadata": {},
   "outputs": [
    {
     "data": {
      "text/html": [
       "<style scoped>\n",
       "  .ansiout {\n",
       "    display: block;\n",
       "    unicode-bidi: embed;\n",
       "    white-space: pre-wrap;\n",
       "    word-wrap: break-word;\n",
       "    word-break: break-all;\n",
       "    font-family: \"Source Code Pro\", \"Menlo\", monospace;;\n",
       "    font-size: 13px;\n",
       "    color: #555;\n",
       "    margin-left: 4px;\n",
       "    line-height: 19px;\n",
       "  }\n",
       "</style>\n",
       "<div class=\"ansiout\">+-----+-----+---------+-----+\n",
       "   TV|radio|newspaper|sales|\n",
       "+-----+-----+---------+-----+\n",
       "230.1| 37.8|     69.2| 22.1|\n",
       " 44.5| 39.3|     45.1| 10.4|\n",
       " 17.2| 45.9|     69.3|  9.3|\n",
       "151.5| 41.3|     58.5| 18.5|\n",
       "180.8| 10.8|     58.4| 12.9|\n",
       "  8.7| 48.9|       75|  7.2|\n",
       " 57.5| 32.8|     23.5| 11.8|\n",
       "120.2| 19.6|     11.6| 13.2|\n",
       "  8.6|  2.1|        1|  4.8|\n",
       "199.8|  2.6|     21.2| 10.6|\n",
       "+-----+-----+---------+-----+\n",
       "only showing top 10 rows\n",
       "\n",
       "</div>"
      ]
     },
     "metadata": {},
     "output_type": "display_data"
    }
   ],
   "source": [
    "regressionDataFrame.show(10)"
   ]
  },
  {
   "cell_type": "code",
   "execution_count": 9,
   "metadata": {},
   "outputs": [
    {
     "data": {
      "text/html": [
       "<style scoped>\n",
       "  .ansiout {\n",
       "    display: block;\n",
       "    unicode-bidi: embed;\n",
       "    white-space: pre-wrap;\n",
       "    word-wrap: break-word;\n",
       "    word-break: break-all;\n",
       "    font-family: \"Source Code Pro\", \"Menlo\", monospace;;\n",
       "    font-size: 13px;\n",
       "    color: #555;\n",
       "    margin-left: 4px;\n",
       "    line-height: 19px;\n",
       "  }\n",
       "</style>\n",
       "<div class=\"ansiout\"></div>"
      ]
     },
     "metadata": {},
     "output_type": "display_data"
    }
   ],
   "source": [
    "regressionDataRDD = regressionDataFrame.rdd.map(list)"
   ]
  },
  {
   "cell_type": "code",
   "execution_count": 10,
   "metadata": {},
   "outputs": [
    {
     "data": {
      "text/html": [
       "<style scoped>\n",
       "  .ansiout {\n",
       "    display: block;\n",
       "    unicode-bidi: embed;\n",
       "    white-space: pre-wrap;\n",
       "    word-wrap: break-word;\n",
       "    word-break: break-all;\n",
       "    font-family: \"Source Code Pro\", \"Menlo\", monospace;;\n",
       "    font-size: 13px;\n",
       "    color: #555;\n",
       "    margin-left: 4px;\n",
       "    line-height: 19px;\n",
       "  }\n",
       "</style>\n",
       "<div class=\"ansiout\">Out[15]: [[&#39;230.1&#39;, &#39;37.8&#39;, &#39;69.2&#39;, &#39;22.1&#39;],\n",
       " [&#39;44.5&#39;, &#39;39.3&#39;, &#39;45.1&#39;, &#39;10.4&#39;],\n",
       " [&#39;17.2&#39;, &#39;45.9&#39;, &#39;69.3&#39;, &#39;9.3&#39;],\n",
       " [&#39;151.5&#39;, &#39;41.3&#39;, &#39;58.5&#39;, &#39;18.5&#39;],\n",
       " [&#39;180.8&#39;, &#39;10.8&#39;, &#39;58.4&#39;, &#39;12.9&#39;]]</div>"
      ]
     },
     "metadata": {},
     "output_type": "display_data"
    }
   ],
   "source": [
    "regressionDataRDD.take(5)"
   ]
  },
  {
   "cell_type": "code",
   "execution_count": 11,
   "metadata": {},
   "outputs": [
    {
     "data": {
      "text/html": [
       "<style scoped>\n",
       "  .ansiout {\n",
       "    display: block;\n",
       "    unicode-bidi: embed;\n",
       "    white-space: pre-wrap;\n",
       "    word-wrap: break-word;\n",
       "    word-break: break-all;\n",
       "    font-family: \"Source Code Pro\", \"Menlo\", monospace;;\n",
       "    font-size: 13px;\n",
       "    color: #555;\n",
       "    margin-left: 4px;\n",
       "    line-height: 19px;\n",
       "  }\n",
       "</style>\n",
       "<div class=\"ansiout\"></div>"
      ]
     },
     "metadata": {},
     "output_type": "display_data"
    }
   ],
   "source": [
    "from pyspark.mllib.regression import LabeledPoint\n",
    "regressionDataLabelPoint = regressionDataRDD.map(lambda data : LabeledPoint(data[3], data[0:3]))"
   ]
  },
  {
   "cell_type": "code",
   "execution_count": 12,
   "metadata": {},
   "outputs": [
    {
     "data": {
      "text/html": [
       "<style scoped>\n",
       "  .ansiout {\n",
       "    display: block;\n",
       "    unicode-bidi: embed;\n",
       "    white-space: pre-wrap;\n",
       "    word-wrap: break-word;\n",
       "    word-break: break-all;\n",
       "    font-family: \"Source Code Pro\", \"Menlo\", monospace;;\n",
       "    font-size: 13px;\n",
       "    color: #555;\n",
       "    margin-left: 4px;\n",
       "    line-height: 19px;\n",
       "  }\n",
       "</style>\n",
       "<div class=\"ansiout\">Out[17]: [LabeledPoint(22.1, [230.1,37.8,69.2]),\n",
       " LabeledPoint(10.4, [44.5,39.3,45.1]),\n",
       " LabeledPoint(9.3, [17.2,45.9,69.3]),\n",
       " LabeledPoint(18.5, [151.5,41.3,58.5]),\n",
       " LabeledPoint(12.9, [180.8,10.8,58.4])]</div>"
      ]
     },
     "metadata": {},
     "output_type": "display_data"
    }
   ],
   "source": [
    "regressionDataLabelPoint.take(5)"
   ]
  },
  {
   "cell_type": "code",
   "execution_count": 13,
   "metadata": {},
   "outputs": [
    {
     "data": {
      "text/html": [
       "<style scoped>\n",
       "  .ansiout {\n",
       "    display: block;\n",
       "    unicode-bidi: embed;\n",
       "    white-space: pre-wrap;\n",
       "    word-wrap: break-word;\n",
       "    word-break: break-all;\n",
       "    font-family: \"Source Code Pro\", \"Menlo\", monospace;;\n",
       "    font-size: 13px;\n",
       "    color: #555;\n",
       "    margin-left: 4px;\n",
       "    line-height: 19px;\n",
       "  }\n",
       "</style>\n",
       "<div class=\"ansiout\"></div>"
      ]
     },
     "metadata": {},
     "output_type": "display_data"
    }
   ],
   "source": [
    "regressionLabelPointSplit = regressionDataLabelPoint.randomSplit([0.7, 0.3])"
   ]
  },
  {
   "cell_type": "code",
   "execution_count": 14,
   "metadata": {},
   "outputs": [
    {
     "data": {
      "text/html": [
       "<style scoped>\n",
       "  .ansiout {\n",
       "    display: block;\n",
       "    unicode-bidi: embed;\n",
       "    white-space: pre-wrap;\n",
       "    word-wrap: break-word;\n",
       "    word-break: break-all;\n",
       "    font-family: \"Source Code Pro\", \"Menlo\", monospace;;\n",
       "    font-size: 13px;\n",
       "    color: #555;\n",
       "    margin-left: 4px;\n",
       "    line-height: 19px;\n",
       "  }\n",
       "</style>\n",
       "<div class=\"ansiout\"></div>"
      ]
     },
     "metadata": {},
     "output_type": "display_data"
    }
   ],
   "source": [
    "regressionLabelPointTrainData = regressionLabelPointSplit[0]"
   ]
  },
  {
   "cell_type": "code",
   "execution_count": 15,
   "metadata": {},
   "outputs": [
    {
     "data": {
      "text/html": [
       "<style scoped>\n",
       "  .ansiout {\n",
       "    display: block;\n",
       "    unicode-bidi: embed;\n",
       "    white-space: pre-wrap;\n",
       "    word-wrap: break-word;\n",
       "    word-break: break-all;\n",
       "    font-family: \"Source Code Pro\", \"Menlo\", monospace;;\n",
       "    font-size: 13px;\n",
       "    color: #555;\n",
       "    margin-left: 4px;\n",
       "    line-height: 19px;\n",
       "  }\n",
       "</style>\n",
       "<div class=\"ansiout\">Out[29]: pyspark.rdd.PipelinedRDD</div>"
      ]
     },
     "metadata": {},
     "output_type": "display_data"
    }
   ],
   "source": [
    "type(regressionLabelPointTrainData)"
   ]
  },
  {
   "cell_type": "code",
   "execution_count": 16,
   "metadata": {},
   "outputs": [
    {
     "data": {
      "text/html": [
       "<div>\n",
       "<style scoped>\n",
       "    .dataframe tbody tr th:only-of-type {\n",
       "        vertical-align: middle;\n",
       "    }\n",
       "\n",
       "    .dataframe tbody tr th {\n",
       "        vertical-align: top;\n",
       "    }\n",
       "\n",
       "    .dataframe thead th {\n",
       "        text-align: right;\n",
       "    }\n",
       "</style>\n",
       "<table border=\"1\" class=\"dataframe\">\n",
       "  <thead>\n",
       "    <tr style=\"text-align: right;\">\n",
       "      <th></th>\n",
       "      <th>features</th>\n",
       "      <th>label</th>\n",
       "    </tr>\n",
       "  </thead>\n",
       "  <tbody>\n",
       "    <tr>\n",
       "      <th>0</th>\n",
       "      <td>[230.1, 37.8, 69.2]</td>\n",
       "      <td>22.1</td>\n",
       "    </tr>\n",
       "    <tr>\n",
       "      <th>1</th>\n",
       "      <td>[44.5, 39.3, 45.1]</td>\n",
       "      <td>10.4</td>\n",
       "    </tr>\n",
       "    <tr>\n",
       "      <th>2</th>\n",
       "      <td>[17.2, 45.9, 69.3]</td>\n",
       "      <td>9.3</td>\n",
       "    </tr>\n",
       "    <tr>\n",
       "      <th>3</th>\n",
       "      <td>[180.8, 10.8, 58.4]</td>\n",
       "      <td>12.9</td>\n",
       "    </tr>\n",
       "    <tr>\n",
       "      <th>4</th>\n",
       "      <td>[8.7, 48.9, 75.0]</td>\n",
       "      <td>7.2</td>\n",
       "    </tr>\n",
       "    <tr>\n",
       "      <th>5</th>\n",
       "      <td>[120.2, 19.6, 11.6]</td>\n",
       "      <td>13.2</td>\n",
       "    </tr>\n",
       "    <tr>\n",
       "      <th>6</th>\n",
       "      <td>[66.1, 5.8, 24.2]</td>\n",
       "      <td>8.6</td>\n",
       "    </tr>\n",
       "    <tr>\n",
       "      <th>7</th>\n",
       "      <td>[23.8, 35.1, 65.9]</td>\n",
       "      <td>9.2</td>\n",
       "    </tr>\n",
       "    <tr>\n",
       "      <th>8</th>\n",
       "      <td>[195.4, 47.7, 52.9]</td>\n",
       "      <td>22.4</td>\n",
       "    </tr>\n",
       "    <tr>\n",
       "      <th>9</th>\n",
       "      <td>[67.8, 36.6, 114.0]</td>\n",
       "      <td>12.5</td>\n",
       "    </tr>\n",
       "    <tr>\n",
       "      <th>10</th>\n",
       "      <td>[281.4, 39.6, 55.8]</td>\n",
       "      <td>24.4</td>\n",
       "    </tr>\n",
       "    <tr>\n",
       "      <th>11</th>\n",
       "      <td>[69.2, 20.5, 18.3]</td>\n",
       "      <td>11.3</td>\n",
       "    </tr>\n",
       "    <tr>\n",
       "      <th>12</th>\n",
       "      <td>[147.3, 23.9, 19.1]</td>\n",
       "      <td>14.6</td>\n",
       "    </tr>\n",
       "    <tr>\n",
       "      <th>13</th>\n",
       "      <td>[218.4, 27.7, 53.4]</td>\n",
       "      <td>18.0</td>\n",
       "    </tr>\n",
       "    <tr>\n",
       "      <th>14</th>\n",
       "      <td>[237.4, 5.1, 23.5]</td>\n",
       "      <td>12.5</td>\n",
       "    </tr>\n",
       "    <tr>\n",
       "      <th>15</th>\n",
       "      <td>[228.3, 16.9, 26.2]</td>\n",
       "      <td>15.5</td>\n",
       "    </tr>\n",
       "    <tr>\n",
       "      <th>16</th>\n",
       "      <td>[262.9, 3.5, 19.5]</td>\n",
       "      <td>12.0</td>\n",
       "    </tr>\n",
       "    <tr>\n",
       "      <th>17</th>\n",
       "      <td>[142.9, 29.3, 12.6]</td>\n",
       "      <td>15.0</td>\n",
       "    </tr>\n",
       "    <tr>\n",
       "      <th>18</th>\n",
       "      <td>[240.1, 16.7, 22.9]</td>\n",
       "      <td>15.9</td>\n",
       "    </tr>\n",
       "    <tr>\n",
       "      <th>19</th>\n",
       "      <td>[248.8, 27.1, 22.9]</td>\n",
       "      <td>18.9</td>\n",
       "    </tr>\n",
       "    <tr>\n",
       "      <th>20</th>\n",
       "      <td>[70.6, 16.0, 40.8]</td>\n",
       "      <td>10.5</td>\n",
       "    </tr>\n",
       "    <tr>\n",
       "      <th>21</th>\n",
       "      <td>[292.9, 28.3, 43.2]</td>\n",
       "      <td>21.4</td>\n",
       "    </tr>\n",
       "    <tr>\n",
       "      <th>22</th>\n",
       "      <td>[112.9, 17.4, 38.6]</td>\n",
       "      <td>11.9</td>\n",
       "    </tr>\n",
       "    <tr>\n",
       "      <th>23</th>\n",
       "      <td>[265.6, 20.0, 0.3]</td>\n",
       "      <td>17.4</td>\n",
       "    </tr>\n",
       "    <tr>\n",
       "      <th>24</th>\n",
       "      <td>[266.9, 43.8, 5.0]</td>\n",
       "      <td>25.4</td>\n",
       "    </tr>\n",
       "    <tr>\n",
       "      <th>25</th>\n",
       "      <td>[74.7, 49.4, 45.7]</td>\n",
       "      <td>14.7</td>\n",
       "    </tr>\n",
       "    <tr>\n",
       "      <th>26</th>\n",
       "      <td>[43.1, 26.7, 35.1]</td>\n",
       "      <td>10.1</td>\n",
       "    </tr>\n",
       "    <tr>\n",
       "      <th>27</th>\n",
       "      <td>[228.0, 37.7, 32.0]</td>\n",
       "      <td>21.5</td>\n",
       "    </tr>\n",
       "    <tr>\n",
       "      <th>28</th>\n",
       "      <td>[202.5, 22.3, 31.6]</td>\n",
       "      <td>16.6</td>\n",
       "    </tr>\n",
       "    <tr>\n",
       "      <th>29</th>\n",
       "      <td>[177.0, 33.4, 38.7]</td>\n",
       "      <td>17.1</td>\n",
       "    </tr>\n",
       "    <tr>\n",
       "      <th>...</th>\n",
       "      <td>...</td>\n",
       "      <td>...</td>\n",
       "    </tr>\n",
       "    <tr>\n",
       "      <th>108</th>\n",
       "      <td>[187.8, 21.1, 9.5]</td>\n",
       "      <td>15.6</td>\n",
       "    </tr>\n",
       "    <tr>\n",
       "      <th>109</th>\n",
       "      <td>[93.9, 43.5, 50.5]</td>\n",
       "      <td>15.3</td>\n",
       "    </tr>\n",
       "    <tr>\n",
       "      <th>110</th>\n",
       "      <td>[149.8, 1.3, 24.3]</td>\n",
       "      <td>10.1</td>\n",
       "    </tr>\n",
       "    <tr>\n",
       "      <th>111</th>\n",
       "      <td>[11.7, 36.9, 45.2]</td>\n",
       "      <td>7.3</td>\n",
       "    </tr>\n",
       "    <tr>\n",
       "      <th>112</th>\n",
       "      <td>[188.4, 18.1, 25.6]</td>\n",
       "      <td>14.9</td>\n",
       "    </tr>\n",
       "    <tr>\n",
       "      <th>113</th>\n",
       "      <td>[163.5, 36.8, 7.4]</td>\n",
       "      <td>18.0</td>\n",
       "    </tr>\n",
       "    <tr>\n",
       "      <th>114</th>\n",
       "      <td>[234.5, 3.4, 84.8]</td>\n",
       "      <td>11.9</td>\n",
       "    </tr>\n",
       "    <tr>\n",
       "      <th>115</th>\n",
       "      <td>[17.9, 37.6, 21.6]</td>\n",
       "      <td>8.0</td>\n",
       "    </tr>\n",
       "    <tr>\n",
       "      <th>116</th>\n",
       "      <td>[206.8, 5.2, 19.4]</td>\n",
       "      <td>12.2</td>\n",
       "    </tr>\n",
       "    <tr>\n",
       "      <th>117</th>\n",
       "      <td>[215.4, 23.6, 57.6]</td>\n",
       "      <td>17.1</td>\n",
       "    </tr>\n",
       "    <tr>\n",
       "      <th>118</th>\n",
       "      <td>[284.3, 10.6, 6.4]</td>\n",
       "      <td>15.0</td>\n",
       "    </tr>\n",
       "    <tr>\n",
       "      <th>119</th>\n",
       "      <td>[50.0, 11.6, 18.4]</td>\n",
       "      <td>8.4</td>\n",
       "    </tr>\n",
       "    <tr>\n",
       "      <th>120</th>\n",
       "      <td>[164.5, 20.9, 47.4]</td>\n",
       "      <td>14.5</td>\n",
       "    </tr>\n",
       "    <tr>\n",
       "      <th>121</th>\n",
       "      <td>[168.4, 7.1, 12.8]</td>\n",
       "      <td>11.7</td>\n",
       "    </tr>\n",
       "    <tr>\n",
       "      <th>122</th>\n",
       "      <td>[276.9, 48.9, 41.8]</td>\n",
       "      <td>27.0</td>\n",
       "    </tr>\n",
       "    <tr>\n",
       "      <th>123</th>\n",
       "      <td>[248.4, 30.2, 20.3]</td>\n",
       "      <td>20.2</td>\n",
       "    </tr>\n",
       "    <tr>\n",
       "      <th>124</th>\n",
       "      <td>[170.2, 7.8, 35.2]</td>\n",
       "      <td>11.7</td>\n",
       "    </tr>\n",
       "    <tr>\n",
       "      <th>125</th>\n",
       "      <td>[165.6, 10.0, 17.6]</td>\n",
       "      <td>12.6</td>\n",
       "    </tr>\n",
       "    <tr>\n",
       "      <th>126</th>\n",
       "      <td>[218.5, 5.4, 27.4]</td>\n",
       "      <td>12.2</td>\n",
       "    </tr>\n",
       "    <tr>\n",
       "      <th>127</th>\n",
       "      <td>[56.2, 5.7, 29.7]</td>\n",
       "      <td>8.7</td>\n",
       "    </tr>\n",
       "    <tr>\n",
       "      <th>128</th>\n",
       "      <td>[287.6, 43.0, 71.8]</td>\n",
       "      <td>26.2</td>\n",
       "    </tr>\n",
       "    <tr>\n",
       "      <th>129</th>\n",
       "      <td>[205.0, 45.1, 19.6]</td>\n",
       "      <td>22.6</td>\n",
       "    </tr>\n",
       "    <tr>\n",
       "      <th>130</th>\n",
       "      <td>[139.5, 2.1, 26.6]</td>\n",
       "      <td>10.3</td>\n",
       "    </tr>\n",
       "    <tr>\n",
       "      <th>131</th>\n",
       "      <td>[191.1, 28.7, 18.2]</td>\n",
       "      <td>17.3</td>\n",
       "    </tr>\n",
       "    <tr>\n",
       "      <th>132</th>\n",
       "      <td>[18.7, 12.1, 23.4]</td>\n",
       "      <td>6.7</td>\n",
       "    </tr>\n",
       "    <tr>\n",
       "      <th>133</th>\n",
       "      <td>[39.5, 41.1, 5.8]</td>\n",
       "      <td>10.8</td>\n",
       "    </tr>\n",
       "    <tr>\n",
       "      <th>134</th>\n",
       "      <td>[166.8, 42.0, 3.6]</td>\n",
       "      <td>19.6</td>\n",
       "    </tr>\n",
       "    <tr>\n",
       "      <th>135</th>\n",
       "      <td>[38.2, 3.7, 13.8]</td>\n",
       "      <td>7.6</td>\n",
       "    </tr>\n",
       "    <tr>\n",
       "      <th>136</th>\n",
       "      <td>[94.2, 4.9, 8.1]</td>\n",
       "      <td>9.7</td>\n",
       "    </tr>\n",
       "    <tr>\n",
       "      <th>137</th>\n",
       "      <td>[232.1, 8.6, 8.7]</td>\n",
       "      <td>13.4</td>\n",
       "    </tr>\n",
       "  </tbody>\n",
       "</table>\n",
       "<p>138 rows × 2 columns</p>\n",
       "</div>"
      ]
     },
     "metadata": {},
     "output_type": "display_data"
    }
   ],
   "source": [
    "regressionLabelPointTrainData.toDF().toPandas()"
   ]
  },
  {
   "cell_type": "code",
   "execution_count": 17,
   "metadata": {},
   "outputs": [
    {
     "data": {
      "text/html": [
       "<style scoped>\n",
       "  .ansiout {\n",
       "    display: block;\n",
       "    unicode-bidi: embed;\n",
       "    white-space: pre-wrap;\n",
       "    word-wrap: break-word;\n",
       "    word-break: break-all;\n",
       "    font-family: \"Source Code Pro\", \"Menlo\", monospace;;\n",
       "    font-size: 13px;\n",
       "    color: #555;\n",
       "    margin-left: 4px;\n",
       "    line-height: 19px;\n",
       "  }\n",
       "</style>\n",
       "<div class=\"ansiout\">Out[97]: array([DenseVector([230.1, 37.8, 69.2]), DenseVector([44.5, 39.3, 45.1]),\n",
       "       DenseVector([17.2, 45.9, 69.3]), DenseVector([180.8, 10.8, 58.4]),\n",
       "       DenseVector([8.7, 48.9, 75.0]), DenseVector([120.2, 19.6, 11.6]),\n",
       "       DenseVector([66.1, 5.8, 24.2]), DenseVector([23.8, 35.1, 65.9]),\n",
       "       DenseVector([195.4, 47.7, 52.9]), DenseVector([67.8, 36.6, 114.0]),\n",
       "       DenseVector([281.4, 39.6, 55.8]), DenseVector([69.2, 20.5, 18.3]),\n",
       "       DenseVector([147.3, 23.9, 19.1]), DenseVector([218.4, 27.7, 53.4]),\n",
       "       DenseVector([237.4, 5.1, 23.5]), DenseVector([228.3, 16.9, 26.2]),\n",
       "       DenseVector([262.9, 3.5, 19.5]), DenseVector([142.9, 29.3, 12.6]),\n",
       "       DenseVector([240.1, 16.7, 22.9]), DenseVector([248.8, 27.1, 22.9]),\n",
       "       DenseVector([70.6, 16.0, 40.8]), DenseVector([292.9, 28.3, 43.2]),\n",
       "       DenseVector([112.9, 17.4, 38.6]), DenseVector([265.6, 20.0, 0.3]),\n",
       "       DenseVector([266.9, 43.8, 5.0]), DenseVector([74.7, 49.4, 45.7]),\n",
       "       DenseVector([43.1, 26.7, 35.1]), DenseVector([228.0, 37.7, 32.0]),\n",
       "       DenseVector([202.5, 22.3, 31.6]), DenseVector([177.0, 33.4, 38.7]),\n",
       "       DenseVector([293.6, 27.7, 1.8]), DenseVector([206.9, 8.4, 26.4]),\n",
       "       DenseVector([25.1, 25.7, 43.3]), DenseVector([175.1, 22.5, 31.5]),\n",
       "       DenseVector([89.7, 9.9, 35.7]), DenseVector([239.9, 41.5, 18.5]),\n",
       "       DenseVector([227.2, 15.8, 49.9]), DenseVector([66.9, 11.7, 36.8]),\n",
       "       DenseVector([199.8, 3.1, 34.6]), DenseVector([100.4, 9.6, 3.6]),\n",
       "       DenseVector([216.4, 41.7, 39.6]), DenseVector([182.6, 46.2, 58.7]),\n",
       "       DenseVector([7.3, 28.1, 41.4]), DenseVector([136.2, 19.2, 16.6]),\n",
       "       DenseVector([210.8, 49.6, 37.7]), DenseVector([53.5, 2.0, 21.4]),\n",
       "       DenseVector([261.3, 42.7, 54.7]), DenseVector([69.0, 9.3, 0.9]),\n",
       "       DenseVector([31.5, 24.6, 2.2]), DenseVector([139.3, 14.5, 10.2]),\n",
       "       DenseVector([237.4, 27.5, 11.0]), DenseVector([199.1, 30.6, 38.7]),\n",
       "       DenseVector([26.8, 33.0, 19.3]), DenseVector([129.4, 5.7, 31.3]),\n",
       "       DenseVector([16.9, 43.7, 89.4]), DenseVector([75.3, 20.3, 32.5]),\n",
       "       DenseVector([68.4, 44.5, 35.6]), DenseVector([213.5, 43.0, 33.8]),\n",
       "       DenseVector([193.2, 18.4, 65.7]), DenseVector([76.3, 27.5, 16.0]),\n",
       "       DenseVector([88.3, 25.5, 73.4]), DenseVector([28.6, 1.5, 33.0]),\n",
       "       DenseVector([250.9, 36.5, 72.3]), DenseVector([107.4, 14.0, 10.9]),\n",
       "       DenseVector([163.3, 31.6, 52.9]), DenseVector([289.7, 42.3, 51.2]),\n",
       "       DenseVector([135.2, 41.7, 45.9]), DenseVector([222.4, 4.3, 49.8]),\n",
       "       DenseVector([296.4, 36.3, 100.9]),\n",
       "       DenseVector([280.2, 10.1, 21.4]), DenseVector([187.9, 17.2, 17.9]),\n",
       "       DenseVector([238.2, 34.3, 5.3]), DenseVector([137.9, 46.4, 59.0]),\n",
       "       DenseVector([90.4, 0.3, 23.2]), DenseVector([13.1, 0.4, 25.6]),\n",
       "       DenseVector([225.8, 8.2, 56.5]), DenseVector([241.7, 38.0, 23.2]),\n",
       "       DenseVector([209.6, 20.6, 10.7]), DenseVector([75.1, 35.0, 52.7]),\n",
       "       DenseVector([76.4, 0.8, 14.8]), DenseVector([19.4, 16.0, 22.3]),\n",
       "       DenseVector([141.3, 26.8, 46.2]), DenseVector([18.8, 21.7, 50.4]),\n",
       "       DenseVector([123.1, 34.6, 12.4]), DenseVector([229.5, 32.3, 74.2]),\n",
       "       DenseVector([87.2, 11.8, 25.9]), DenseVector([7.8, 38.9, 50.6]),\n",
       "       DenseVector([59.6, 12.0, 43.1]), DenseVector([265.2, 2.9, 43.0]),\n",
       "       DenseVector([8.4, 27.2, 2.1]), DenseVector([219.8, 33.5, 45.1]),\n",
       "       DenseVector([36.9, 38.6, 65.6]), DenseVector([48.3, 47.0, 8.5]),\n",
       "       DenseVector([25.6, 39.0, 9.3]), DenseVector([273.7, 28.9, 59.7]),\n",
       "       DenseVector([43.0, 25.9, 20.5]), DenseVector([184.9, 43.9, 1.7]),\n",
       "       DenseVector([193.7, 35.4, 75.6]), DenseVector([220.5, 33.2, 37.9]),\n",
       "       DenseVector([104.6, 5.7, 34.4]), DenseVector([96.2, 14.8, 38.9]),\n",
       "       DenseVector([140.3, 1.9, 9.0]), DenseVector([240.1, 7.3, 8.7]),\n",
       "       DenseVector([243.2, 49.0, 44.3]), DenseVector([44.7, 25.8, 20.6]),\n",
       "       DenseVector([280.7, 13.9, 37.0]), DenseVector([121.0, 8.4, 48.7]),\n",
       "       DenseVector([171.3, 39.7, 37.7]), DenseVector([187.8, 21.1, 9.5]),\n",
       "       DenseVector([93.9, 43.5, 50.5]), DenseVector([149.8, 1.3, 24.3]),\n",
       "       DenseVector([11.7, 36.9, 45.2]), DenseVector([188.4, 18.1, 25.6]),\n",
       "       DenseVector([163.5, 36.8, 7.4]), DenseVector([234.5, 3.4, 84.8]),\n",
       "       DenseVector([17.9, 37.6, 21.6]), DenseVector([206.8, 5.2, 19.4]),\n",
       "       DenseVector([215.4, 23.6, 57.6]), DenseVector([284.3, 10.6, 6.4]),\n",
       "       DenseVector([50.0, 11.6, 18.4]), DenseVector([164.5, 20.9, 47.4]),\n",
       "       DenseVector([168.4, 7.1, 12.8]), DenseVector([276.9, 48.9, 41.8]),\n",
       "       DenseVector([248.4, 30.2, 20.3]), DenseVector([170.2, 7.8, 35.2]),\n",
       "       DenseVector([165.6, 10.0, 17.6]), DenseVector([218.5, 5.4, 27.4]),\n",
       "       DenseVector([56.2, 5.7, 29.7]), DenseVector([287.6, 43.0, 71.8]),\n",
       "       DenseVector([205.0, 45.1, 19.6]), DenseVector([139.5, 2.1, 26.6]),\n",
       "       DenseVector([191.1, 28.7, 18.2]), DenseVector([18.7, 12.1, 23.4]),\n",
       "       DenseVector([39.5, 41.1, 5.8]), DenseVector([166.8, 42.0, 3.6]),\n",
       "       DenseVector([38.2, 3.7, 13.8]), DenseVector([94.2, 4.9, 8.1]),\n",
       "       DenseVector([232.1, 8.6, 8.7])], dtype=object)</div>"
      ]
     },
     "metadata": {},
     "output_type": "display_data"
    }
   ],
   "source": [
    "regressionLabelPointTrainData.toDF().toPandas()['features'].values"
   ]
  },
  {
   "cell_type": "code",
   "execution_count": 18,
   "metadata": {},
   "outputs": [
    {
     "data": {
      "text/html": [
       "<style scoped>\n",
       "  .ansiout {\n",
       "    display: block;\n",
       "    unicode-bidi: embed;\n",
       "    white-space: pre-wrap;\n",
       "    word-wrap: break-word;\n",
       "    word-break: break-all;\n",
       "    font-family: \"Source Code Pro\", \"Menlo\", monospace;;\n",
       "    font-size: 13px;\n",
       "    color: #555;\n",
       "    margin-left: 4px;\n",
       "    line-height: 19px;\n",
       "  }\n",
       "</style>\n",
       "<div class=\"ansiout\"><span class=\"ansi-red-fg\">---------------------------------------------------------------------------</span>\n",
       "<span class=\"ansi-red-fg\">ValueError</span>                                Traceback (most recent call last)\n",
       "<span class=\"ansi-green-fg\">&lt;command-1292048207728022&gt;</span> in <span class=\"ansi-cyan-fg\">&lt;module&gt;</span><span class=\"ansi-blue-fg\">()</span>\n",
       "<span class=\"ansi-green-intense-fg ansi-bold\">      4</span> <span class=\"ansi-red-fg\"># print(X)</span>\n",
       "<span class=\"ansi-green-intense-fg ansi-bold\">      5</span> lr <span class=\"ansi-blue-fg\">=</span> LinearRegression<span class=\"ansi-blue-fg\">(</span><span class=\"ansi-blue-fg\">)</span>\n",
       "<span class=\"ansi-green-fg\">----&gt; 6</span><span class=\"ansi-red-fg\"> </span>lr<span class=\"ansi-blue-fg\">.</span>fit<span class=\"ansi-blue-fg\">(</span>X<span class=\"ansi-blue-fg\">,</span>y<span class=\"ansi-blue-fg\">)</span>\n",
       "\n",
       "<span class=\"ansi-green-fg\">/databricks/python/lib/python3.6/site-packages/sklearn/linear_model/base.py</span> in <span class=\"ansi-cyan-fg\">fit</span><span class=\"ansi-blue-fg\">(self, X, y, sample_weight)</span>\n",
       "<span class=\"ansi-green-intense-fg ansi-bold\">    456</span>         n_jobs_ <span class=\"ansi-blue-fg\">=</span> self<span class=\"ansi-blue-fg\">.</span>n_jobs\n",
       "<span class=\"ansi-green-intense-fg ansi-bold\">    457</span>         X, y = check_X_y(X, y, accept_sparse=[&#39;csr&#39;, &#39;csc&#39;, &#39;coo&#39;],\n",
       "<span class=\"ansi-green-fg\">--&gt; 458</span><span class=\"ansi-red-fg\">                          y_numeric=True, multi_output=True)\n",
       "</span><span class=\"ansi-green-intense-fg ansi-bold\">    459</span> \n",
       "<span class=\"ansi-green-intense-fg ansi-bold\">    460</span>         <span class=\"ansi-green-fg\">if</span> sample_weight <span class=\"ansi-green-fg\">is</span> <span class=\"ansi-green-fg\">not</span> <span class=\"ansi-green-fg\">None</span> <span class=\"ansi-green-fg\">and</span> np<span class=\"ansi-blue-fg\">.</span>atleast_1d<span class=\"ansi-blue-fg\">(</span>sample_weight<span class=\"ansi-blue-fg\">)</span><span class=\"ansi-blue-fg\">.</span>ndim <span class=\"ansi-blue-fg\">&gt;</span> <span class=\"ansi-cyan-fg\">1</span><span class=\"ansi-blue-fg\">:</span>\n",
       "\n",
       "<span class=\"ansi-green-fg\">/databricks/python/lib/python3.6/site-packages/sklearn/utils/validation.py</span> in <span class=\"ansi-cyan-fg\">check_X_y</span><span class=\"ansi-blue-fg\">(X, y, accept_sparse, accept_large_sparse, dtype, order, copy, force_all_finite, ensure_2d, allow_nd, multi_output, ensure_min_samples, ensure_min_features, y_numeric, warn_on_dtype, estimator)</span>\n",
       "<span class=\"ansi-green-intense-fg ansi-bold\">    754</span>                     ensure_min_features<span class=\"ansi-blue-fg\">=</span>ensure_min_features<span class=\"ansi-blue-fg\">,</span>\n",
       "<span class=\"ansi-green-intense-fg ansi-bold\">    755</span>                     warn_on_dtype<span class=\"ansi-blue-fg\">=</span>warn_on_dtype<span class=\"ansi-blue-fg\">,</span>\n",
       "<span class=\"ansi-green-fg\">--&gt; 756</span><span class=\"ansi-red-fg\">                     estimator=estimator)\n",
       "</span><span class=\"ansi-green-intense-fg ansi-bold\">    757</span>     <span class=\"ansi-green-fg\">if</span> multi_output<span class=\"ansi-blue-fg\">:</span>\n",
       "<span class=\"ansi-green-intense-fg ansi-bold\">    758</span>         y = check_array(y, &#39;csr&#39;, force_all_finite=True, ensure_2d=False,\n",
       "\n",
       "<span class=\"ansi-green-fg\">/databricks/python/lib/python3.6/site-packages/sklearn/utils/validation.py</span> in <span class=\"ansi-cyan-fg\">check_array</span><span class=\"ansi-blue-fg\">(array, accept_sparse, accept_large_sparse, dtype, order, copy, force_all_finite, ensure_2d, allow_nd, ensure_min_samples, ensure_min_features, warn_on_dtype, estimator)</span>\n",
       "<span class=\"ansi-green-intense-fg ansi-bold\">    525</span>             <span class=\"ansi-green-fg\">try</span><span class=\"ansi-blue-fg\">:</span>\n",
       "<span class=\"ansi-green-intense-fg ansi-bold\">    526</span>                 warnings<span class=\"ansi-blue-fg\">.</span>simplefilter<span class=\"ansi-blue-fg\">(</span><span class=\"ansi-blue-fg\">&#39;error&#39;</span><span class=\"ansi-blue-fg\">,</span> ComplexWarning<span class=\"ansi-blue-fg\">)</span>\n",
       "<span class=\"ansi-green-fg\">--&gt; 527</span><span class=\"ansi-red-fg\">                 </span>array <span class=\"ansi-blue-fg\">=</span> np<span class=\"ansi-blue-fg\">.</span>asarray<span class=\"ansi-blue-fg\">(</span>array<span class=\"ansi-blue-fg\">,</span> dtype<span class=\"ansi-blue-fg\">=</span>dtype<span class=\"ansi-blue-fg\">,</span> order<span class=\"ansi-blue-fg\">=</span>order<span class=\"ansi-blue-fg\">)</span>\n",
       "<span class=\"ansi-green-intense-fg ansi-bold\">    528</span>             <span class=\"ansi-green-fg\">except</span> ComplexWarning<span class=\"ansi-blue-fg\">:</span>\n",
       "<span class=\"ansi-green-intense-fg ansi-bold\">    529</span>                 raise ValueError(&#34;Complex data not supported\\n&#34;\n",
       "\n",
       "<span class=\"ansi-green-fg\">/databricks/python/lib/python3.6/site-packages/numpy/core/numeric.py</span> in <span class=\"ansi-cyan-fg\">asarray</span><span class=\"ansi-blue-fg\">(a, dtype, order)</span>\n",
       "<span class=\"ansi-green-intense-fg ansi-bold\">    536</span> \n",
       "<span class=\"ansi-green-intense-fg ansi-bold\">    537</span>     &#34;&#34;&#34;\n",
       "<span class=\"ansi-green-fg\">--&gt; 538</span><span class=\"ansi-red-fg\">     </span><span class=\"ansi-green-fg\">return</span> array<span class=\"ansi-blue-fg\">(</span>a<span class=\"ansi-blue-fg\">,</span> dtype<span class=\"ansi-blue-fg\">,</span> copy<span class=\"ansi-blue-fg\">=</span><span class=\"ansi-green-fg\">False</span><span class=\"ansi-blue-fg\">,</span> order<span class=\"ansi-blue-fg\">=</span>order<span class=\"ansi-blue-fg\">)</span>\n",
       "<span class=\"ansi-green-intense-fg ansi-bold\">    539</span> \n",
       "<span class=\"ansi-green-intense-fg ansi-bold\">    540</span> \n",
       "\n",
       "<span class=\"ansi-red-fg\">ValueError</span>: setting an array element with a sequence.</div>"
      ]
     },
     "metadata": {},
     "output_type": "display_data"
    }
   ],
   "source": [
    "from sklearn.linear_model import LinearRegression\n",
    "X = regressionLabelPointTrainData.toDF().toPandas()['features'].values\n",
    "y = regressionLabelPointTrainData.toDF().toPandas()['label'].values.reshape(-1,1)\n",
    "# print(X)\n",
    "lr = LinearRegression()\n",
    "lr.fit(X,y)"
   ]
  },
  {
   "cell_type": "code",
   "execution_count": 19,
   "metadata": {},
   "outputs": [
    {
     "data": {
      "text/html": [
       "<style scoped>\n",
       "  .ansiout {\n",
       "    display: block;\n",
       "    unicode-bidi: embed;\n",
       "    white-space: pre-wrap;\n",
       "    word-wrap: break-word;\n",
       "    word-break: break-all;\n",
       "    font-family: \"Source Code Pro\", \"Menlo\", monospace;;\n",
       "    font-size: 13px;\n",
       "    color: #555;\n",
       "    margin-left: 4px;\n",
       "    line-height: 19px;\n",
       "  }\n",
       "</style>\n",
       "<div class=\"ansiout\">Out[20]: [LabeledPoint(22.1, [230.1,37.8,69.2]),\n",
       " LabeledPoint(10.4, [44.5,39.3,45.1]),\n",
       " LabeledPoint(9.3, [17.2,45.9,69.3]),\n",
       " LabeledPoint(12.9, [180.8,10.8,58.4]),\n",
       " LabeledPoint(7.2, [8.7,48.9,75.0])]</div>"
      ]
     },
     "metadata": {},
     "output_type": "display_data"
    }
   ],
   "source": [
    "regressionLabelPointTrainData.take(5)"
   ]
  },
  {
   "cell_type": "code",
   "execution_count": 20,
   "metadata": {},
   "outputs": [
    {
     "data": {
      "text/html": [
       "<style scoped>\n",
       "  .ansiout {\n",
       "    display: block;\n",
       "    unicode-bidi: embed;\n",
       "    white-space: pre-wrap;\n",
       "    word-wrap: break-word;\n",
       "    word-break: break-all;\n",
       "    font-family: \"Source Code Pro\", \"Menlo\", monospace;;\n",
       "    font-size: 13px;\n",
       "    color: #555;\n",
       "    margin-left: 4px;\n",
       "    line-height: 19px;\n",
       "  }\n",
       "</style>\n",
       "<div class=\"ansiout\"></div>"
      ]
     },
     "metadata": {},
     "output_type": "display_data"
    }
   ],
   "source": [
    "regressionLabelPointTestData = regressionLabelPointSplit[1]"
   ]
  },
  {
   "cell_type": "code",
   "execution_count": 21,
   "metadata": {},
   "outputs": [
    {
     "data": {
      "text/html": [
       "<style scoped>\n",
       "  .ansiout {\n",
       "    display: block;\n",
       "    unicode-bidi: embed;\n",
       "    white-space: pre-wrap;\n",
       "    word-wrap: break-word;\n",
       "    word-break: break-all;\n",
       "    font-family: \"Source Code Pro\", \"Menlo\", monospace;;\n",
       "    font-size: 13px;\n",
       "    color: #555;\n",
       "    margin-left: 4px;\n",
       "    line-height: 19px;\n",
       "  }\n",
       "</style>\n",
       "<div class=\"ansiout\">Out[22]: [LabeledPoint(18.5, [151.5,41.3,58.5]),\n",
       " LabeledPoint(11.8, [57.5,32.8,23.5]),\n",
       " LabeledPoint(4.8, [8.6,2.1,1.0]),\n",
       " LabeledPoint(10.6, [199.8,2.6,21.2]),\n",
       " LabeledPoint(17.4, [214.7,24.0,4.0])]</div>"
      ]
     },
     "metadata": {},
     "output_type": "display_data"
    }
   ],
   "source": [
    "regressionLabelPointTestData.take(5)"
   ]
  },
  {
   "cell_type": "code",
   "execution_count": 22,
   "metadata": {},
   "outputs": [
    {
     "data": {
      "text/html": [
       "<style scoped>\n",
       "  .ansiout {\n",
       "    display: block;\n",
       "    unicode-bidi: embed;\n",
       "    white-space: pre-wrap;\n",
       "    word-wrap: break-word;\n",
       "    word-break: break-all;\n",
       "    font-family: \"Source Code Pro\", \"Menlo\", monospace;;\n",
       "    font-size: 13px;\n",
       "    color: #555;\n",
       "    margin-left: 4px;\n",
       "    line-height: 19px;\n",
       "  }\n",
       "</style>\n",
       "<div class=\"ansiout\"></div>"
      ]
     },
     "metadata": {},
     "output_type": "display_data"
    }
   ],
   "source": [
    "from pyspark.ml.regression import LinearRegression\n",
    "\n",
    "# Define LinearRegression algorithm\n",
    "lr = LinearRegression()"
   ]
  },
  {
   "cell_type": "code",
   "execution_count": 23,
   "metadata": {},
   "outputs": [
    {
     "data": {
      "text/html": [
       "<style scoped>\n",
       "  .ansiout {\n",
       "    display: block;\n",
       "    unicode-bidi: embed;\n",
       "    white-space: pre-wrap;\n",
       "    word-wrap: break-word;\n",
       "    word-break: break-all;\n",
       "    font-family: \"Source Code Pro\", \"Menlo\", monospace;;\n",
       "    font-size: 13px;\n",
       "    color: #555;\n",
       "    margin-left: 4px;\n",
       "    line-height: 19px;\n",
       "  }\n",
       "</style>\n",
       "<div class=\"ansiout\"><span class=\"ansi-red-fg\">---------------------------------------------------------------------------</span>\n",
       "<span class=\"ansi-red-fg\">AttributeError</span>                            Traceback (most recent call last)\n",
       "<span class=\"ansi-green-fg\">&lt;command-4347172911162228&gt;</span> in <span class=\"ansi-cyan-fg\">&lt;module&gt;</span><span class=\"ansi-blue-fg\">()</span>\n",
       "<span class=\"ansi-green-fg\">----&gt; 1</span><span class=\"ansi-red-fg\"> </span>model <span class=\"ansi-blue-fg\">=</span> lr<span class=\"ansi-blue-fg\">.</span>fit<span class=\"ansi-blue-fg\">(</span>regressionLabelPointTrainData<span class=\"ansi-blue-fg\">)</span>\n",
       "\n",
       "<span class=\"ansi-green-fg\">/databricks/spark/python/pyspark/ml/base.py</span> in <span class=\"ansi-cyan-fg\">fit</span><span class=\"ansi-blue-fg\">(self, dataset, params)</span>\n",
       "<span class=\"ansi-green-intense-fg ansi-bold\">    130</span>                 <span class=\"ansi-green-fg\">return</span> self<span class=\"ansi-blue-fg\">.</span>copy<span class=\"ansi-blue-fg\">(</span>params<span class=\"ansi-blue-fg\">)</span><span class=\"ansi-blue-fg\">.</span>_fit<span class=\"ansi-blue-fg\">(</span>dataset<span class=\"ansi-blue-fg\">)</span>\n",
       "<span class=\"ansi-green-intense-fg ansi-bold\">    131</span>             <span class=\"ansi-green-fg\">else</span><span class=\"ansi-blue-fg\">:</span>\n",
       "<span class=\"ansi-green-fg\">--&gt; 132</span><span class=\"ansi-red-fg\">                 </span><span class=\"ansi-green-fg\">return</span> self<span class=\"ansi-blue-fg\">.</span>_fit<span class=\"ansi-blue-fg\">(</span>dataset<span class=\"ansi-blue-fg\">)</span>\n",
       "<span class=\"ansi-green-intense-fg ansi-bold\">    133</span>         <span class=\"ansi-green-fg\">else</span><span class=\"ansi-blue-fg\">:</span>\n",
       "<span class=\"ansi-green-intense-fg ansi-bold\">    134</span>             raise ValueError(&#34;Params must be either a param map or a list/tuple of param maps, &#34;\n",
       "\n",
       "<span class=\"ansi-green-fg\">/databricks/spark/python/pyspark/ml/wrapper.py</span> in <span class=\"ansi-cyan-fg\">_fit</span><span class=\"ansi-blue-fg\">(self, dataset)</span>\n",
       "<span class=\"ansi-green-intense-fg ansi-bold\">    293</span> \n",
       "<span class=\"ansi-green-intense-fg ansi-bold\">    294</span>     <span class=\"ansi-green-fg\">def</span> _fit<span class=\"ansi-blue-fg\">(</span>self<span class=\"ansi-blue-fg\">,</span> dataset<span class=\"ansi-blue-fg\">)</span><span class=\"ansi-blue-fg\">:</span>\n",
       "<span class=\"ansi-green-fg\">--&gt; 295</span><span class=\"ansi-red-fg\">         </span>java_model <span class=\"ansi-blue-fg\">=</span> self<span class=\"ansi-blue-fg\">.</span>_fit_java<span class=\"ansi-blue-fg\">(</span>dataset<span class=\"ansi-blue-fg\">)</span>\n",
       "<span class=\"ansi-green-intense-fg ansi-bold\">    296</span>         model <span class=\"ansi-blue-fg\">=</span> self<span class=\"ansi-blue-fg\">.</span>_create_model<span class=\"ansi-blue-fg\">(</span>java_model<span class=\"ansi-blue-fg\">)</span>\n",
       "<span class=\"ansi-green-intense-fg ansi-bold\">    297</span>         <span class=\"ansi-green-fg\">return</span> self<span class=\"ansi-blue-fg\">.</span>_copyValues<span class=\"ansi-blue-fg\">(</span>model<span class=\"ansi-blue-fg\">)</span>\n",
       "\n",
       "<span class=\"ansi-green-fg\">/databricks/spark/python/pyspark/ml/wrapper.py</span> in <span class=\"ansi-cyan-fg\">_fit_java</span><span class=\"ansi-blue-fg\">(self, dataset)</span>\n",
       "<span class=\"ansi-green-intense-fg ansi-bold\">    290</span>         &#34;&#34;&#34;\n",
       "<span class=\"ansi-green-intense-fg ansi-bold\">    291</span>         self<span class=\"ansi-blue-fg\">.</span>_transfer_params_to_java<span class=\"ansi-blue-fg\">(</span><span class=\"ansi-blue-fg\">)</span>\n",
       "<span class=\"ansi-green-fg\">--&gt; 292</span><span class=\"ansi-red-fg\">         </span><span class=\"ansi-green-fg\">return</span> self<span class=\"ansi-blue-fg\">.</span>_java_obj<span class=\"ansi-blue-fg\">.</span>fit<span class=\"ansi-blue-fg\">(</span>dataset<span class=\"ansi-blue-fg\">.</span>_jdf<span class=\"ansi-blue-fg\">)</span>\n",
       "<span class=\"ansi-green-intense-fg ansi-bold\">    293</span> \n",
       "<span class=\"ansi-green-intense-fg ansi-bold\">    294</span>     <span class=\"ansi-green-fg\">def</span> _fit<span class=\"ansi-blue-fg\">(</span>self<span class=\"ansi-blue-fg\">,</span> dataset<span class=\"ansi-blue-fg\">)</span><span class=\"ansi-blue-fg\">:</span>\n",
       "\n",
       "<span class=\"ansi-red-fg\">AttributeError</span>: &#39;PipelinedRDD&#39; object has no attribute &#39;_jdf&#39;</div>"
      ]
     },
     "metadata": {},
     "output_type": "display_data"
    }
   ],
   "source": [
    "model = lr.fit(regressionLabelPointTrainData)"
   ]
  },
  {
   "cell_type": "code",
   "execution_count": 24,
   "metadata": {},
   "outputs": [
    {
     "data": {
      "text/html": [
       "<style scoped>\n",
       "  .ansiout {\n",
       "    display: block;\n",
       "    unicode-bidi: embed;\n",
       "    white-space: pre-wrap;\n",
       "    word-wrap: break-word;\n",
       "    word-break: break-all;\n",
       "    font-family: \"Source Code Pro\", \"Menlo\", monospace;;\n",
       "    font-size: 13px;\n",
       "    color: #555;\n",
       "    margin-left: 4px;\n",
       "    line-height: 19px;\n",
       "  }\n",
       "</style>\n",
       "<div class=\"ansiout\"></div>"
      ]
     },
     "metadata": {},
     "output_type": "display_data"
    }
   ],
   "source": [
    "from pyspark.mllib.regression import LinearRegressionWithSGD as lrSGD\n",
    "\n",
    "ourModelWithLinearRegression  = lrSGD.train(data = regressionLabelPointTrainData, \n",
    "                                            iterations = 100, step = 0.0002, intercept = True)"
   ]
  },
  {
   "cell_type": "code",
   "execution_count": 25,
   "metadata": {},
   "outputs": [
    {
     "data": {
      "text/html": [
       "<style scoped>\n",
       "  .ansiout {\n",
       "    display: block;\n",
       "    unicode-bidi: embed;\n",
       "    white-space: pre-wrap;\n",
       "    word-wrap: break-word;\n",
       "    word-break: break-all;\n",
       "    font-family: \"Source Code Pro\", \"Menlo\", monospace;;\n",
       "    font-size: 13px;\n",
       "    color: #555;\n",
       "    margin-left: 4px;\n",
       "    line-height: 19px;\n",
       "  }\n",
       "</style>\n",
       "<div class=\"ansiout\">Out[87]: (weights=[0.058773008699916404,0.09551002636483094,0.04915263067047676], intercept=1.0020898518406591)</div>"
      ]
     },
     "metadata": {},
     "output_type": "display_data"
    }
   ],
   "source": [
    "ourModelWithLinearRegression"
   ]
  },
  {
   "cell_type": "code",
   "execution_count": 26,
   "metadata": {},
   "outputs": [],
   "source": []
  }
 ],
 "metadata": {
  "kernelspec": {
   "display_name": "Python 3",
   "language": "python",
   "name": "python3"
  },
  "language_info": {
   "codemirror_mode": {
    "name": "ipython",
    "version": 3
   },
   "file_extension": ".py",
   "mimetype": "text/x-python",
   "name": "python",
   "nbconvert_exporter": "python",
   "pygments_lexer": "ipython3",
   "version": "3.6.5"
  },
  "name": "2019-09-12 - DBFS Example (1)",
  "notebookId": 4347172911162209
 },
 "nbformat": 4,
 "nbformat_minor": 2
}
