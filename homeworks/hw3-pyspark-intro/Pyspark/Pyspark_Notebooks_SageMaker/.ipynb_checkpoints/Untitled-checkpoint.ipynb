{
 "cells": [
  {
   "cell_type": "code",
   "execution_count": 98,
   "metadata": {},
   "outputs": [
    {
     "name": "stdout",
     "output_type": "stream",
     "text": [
      "[None, None, None, None, {'Car': None}, {'River': None}, {'Deer': None}, {'Car': None}, {'Bear': None}]\n"
     ]
    }
   ],
   "source": [
    "words = ['Deer', 'Bear', 'River', 'Car', 'Car', 'River', 'Deer', 'Car', 'Bear']\n",
    "\n",
    "result = {}\n",
    "word = map(lambda x: {x: result.update({x : result[x] + 1})}  if x in result else result.update({x : 1}), words)\n",
    "print(list(word))"
   ]
  },
  {
   "cell_type": "code",
   "execution_count": 4,
   "metadata": {},
   "outputs": [
    {
     "name": "stdout",
     "output_type": "stream",
     "text": [
      "[{'Deer': 1}, {'Bear': 1}, {'River': 1}, {'Car': 1}, {'Car': 1}, {'River': 1}, {'Deer': 1}, {'Car': 1}, {'Bear': 1}]\n"
     ]
    }
   ],
   "source": [
    "words = ['Deer', 'Bear', 'River', 'Car', 'Car', 'River', 'Deer', 'Car', 'Bear']\n",
    "\n",
    "result = {}\n",
    "word = map(lambda x: {x: 1}, words)\n",
    "word = map(lambda x: {x: result[x] + 1} if x in result\n",
    "print(list(word))"
   ]
  },
  {
   "cell_type": "code",
   "execution_count": 70,
   "metadata": {},
   "outputs": [
    {
     "name": "stdout",
     "output_type": "stream",
     "text": [
      "[None, None, None, None, None, None, None, None, None]\n"
     ]
    }
   ],
   "source": [
    "words = ['Deer', 'Bear', 'River', 'Car', 'Car', 'River', 'Deer', 'Car', 'Bear']\n",
    "\n",
    "result = {}\n",
    "word = map(lambda  x: result.update({x : result[x] + 1}) if x in result else result.update({x : 1}), words)\n",
    "print(list(word))"
   ]
  },
  {
   "cell_type": "code",
   "execution_count": 71,
   "metadata": {},
   "outputs": [
    {
     "name": "stdout",
     "output_type": "stream",
     "text": [
      "{'Deer': 2, 'Bear': 2, 'River': 2, 'Car': 3}\n"
     ]
    }
   ],
   "source": [
    "def f(Words):\n",
    "    result = {}\n",
    "    for x in words:\n",
    "        if x in result:\n",
    "            result.update({x : result[x] + 1})\n",
    "        else:\n",
    "            result.update({x : 1})\n",
    "    return result\n",
    "                \n",
    "print(f(words))"
   ]
  },
  {
   "cell_type": "code",
   "execution_count": 82,
   "metadata": {},
   "outputs": [
    {
     "name": "stdout",
     "output_type": "stream",
     "text": [
      "[None, None, None, None, None, None, None, None, None]\n"
     ]
    }
   ],
   "source": [
    "words = ['Deer', 'Bear', 'River', 'Car', 'Car', 'River', 'Deer', 'Car', 'Bear']\n",
    "\n",
    "result = {}\n",
    "word = map(lambda x: result.update({x : result[x] + 1}) if x in result else result.update({x : 1}), words)\n",
    "print(list(word))"
   ]
  },
  {
   "cell_type": "code",
   "execution_count": 77,
   "metadata": {},
   "outputs": [
    {
     "name": "stdout",
     "output_type": "stream",
     "text": [
      "[{'Deer': 2, 'Bear': 2, 'River': 2, 'Car': 3}, {'Deer': 2, 'Bear': 2, 'River': 2, 'Car': 3}, {'Deer': 2, 'Bear': 2, 'River': 2, 'Car': 3}, {'Deer': 2, 'Bear': 2, 'River': 2, 'Car': 3}, {'Deer': 2, 'Bear': 2, 'River': 2, 'Car': 3}, {'Deer': 2, 'Bear': 2, 'River': 2, 'Car': 3}, {'Deer': 2, 'Bear': 2, 'River': 2, 'Car': 3}, {'Deer': 2, 'Bear': 2, 'River': 2, 'Car': 3}, {'Deer': 2, 'Bear': 2, 'River': 2, 'Car': 3}]\n"
     ]
    }
   ],
   "source": [
    "words = ['Deer', 'Bear', 'River', 'Car', 'Car', 'River', 'Deer', 'Car', 'Bear']\n",
    "word = map(f, words)\n",
    "print(list(word))"
   ]
  },
  {
   "cell_type": "code",
   "execution_count": 83,
   "metadata": {},
   "outputs": [
    {
     "name": "stdout",
     "output_type": "stream",
     "text": [
      "[]\n"
     ]
    }
   ],
   "source": [
    "words = ['Deer', 'Bear', 'River', 'Car', 'Car', 'River', 'Deer', 'Car', 'Bear']\n",
    "\n",
    "result = {}\n",
    "word = map(lambda x: result.update({x : result[x] + 1}) if x in result else result.update({x : 1}), result, words)\n",
    "print(list(word))"
   ]
  },
  {
   "cell_type": "code",
   "execution_count": 85,
   "metadata": {},
   "outputs": [
    {
     "name": "stdout",
     "output_type": "stream",
     "text": [
      "{'Deer': 2, 'Bear': 2, 'River': 2, 'Car': 3}\n"
     ]
    }
   ],
   "source": [
    "def ff(Words):\n",
    "    result = {}\n",
    "    for x in words:\n",
    "        if x in result:\n",
    "            result[x] += 1\n",
    "        else:\n",
    "            result[x] = 1\n",
    "    return result\n",
    "                \n",
    "print(ff(words))"
   ]
  },
  {
   "cell_type": "code",
   "execution_count": 93,
   "metadata": {},
   "outputs": [
    {
     "name": "stdout",
     "output_type": "stream",
     "text": [
      "[{'Deer': 2, 'Bear': 2, 'River': 2, 'Car': 3}, {'Deer': 2, 'Bear': 2, 'River': 2, 'Car': 3}, {'Deer': 2, 'Bear': 2, 'River': 2, 'Car': 3}, {'Deer': 2, 'Bear': 2, 'River': 2, 'Car': 3}, {'Deer': 2, 'Bear': 2, 'River': 2, 'Car': 3}, {'Deer': 2, 'Bear': 2, 'River': 2, 'Car': 3}, {'Deer': 2, 'Bear': 2, 'River': 2, 'Car': 3}, {'Deer': 2, 'Bear': 2, 'River': 2, 'Car': 3}, {'Deer': 2, 'Bear': 2, 'River': 2, 'Car': 3}]\n"
     ]
    }
   ],
   "source": [
    "word = map(ff, words)\n",
    "print(list(word))"
   ]
  },
  {
   "cell_type": "code",
   "execution_count": 97,
   "metadata": {},
   "outputs": [
    {
     "name": "stdout",
     "output_type": "stream",
     "text": [
      "[{'Deer': 1}, {'Bear': 1}, {'River': 1}, {'Car': 1}, {'Car': 1}, {'River': 1}, {'Deer': 1}, {'Car': 1}, {'Bear': 1}]\n"
     ]
    }
   ],
   "source": [
    "result = {}\n",
    "word = map(lambda x: result[x] + 1 if x in result else {x : 1}, words)\n",
    "print(list(word))"
   ]
  },
  {
   "cell_type": "code",
   "execution_count": 110,
   "metadata": {},
   "outputs": [
    {
     "name": "stdout",
     "output_type": "stream",
     "text": [
      "[]\n"
     ]
    }
   ],
   "source": [
    "result = {}\n",
    "word = map(lambda x, result: result[x] + 1 if x in result else {x : 1}, words, result)\n",
    "print(list(word))"
   ]
  },
  {
   "cell_type": "code",
   "execution_count": 111,
   "metadata": {},
   "outputs": [
    {
     "name": "stdout",
     "output_type": "stream",
     "text": [
      "[5, 7, 9]\n"
     ]
    }
   ],
   "source": [
    "numbers1 = [1, 2, 3] \n",
    "numbers2 = [4, 5, 6] \n",
    "  \n",
    "result = map(lambda x, y: x + y, numbers1, numbers2) \n",
    "print(list(result)) "
   ]
  },
  {
   "cell_type": "code",
   "execution_count": null,
   "metadata": {},
   "outputs": [],
   "source": []
  }
 ],
 "metadata": {
  "kernelspec": {
   "display_name": "Python 3",
   "language": "python",
   "name": "python3"
  },
  "language_info": {
   "codemirror_mode": {
    "name": "ipython",
    "version": 3
   },
   "file_extension": ".py",
   "mimetype": "text/x-python",
   "name": "python",
   "nbconvert_exporter": "python",
   "pygments_lexer": "ipython3",
   "version": "3.6.5"
  }
 },
 "nbformat": 4,
 "nbformat_minor": 2
}
